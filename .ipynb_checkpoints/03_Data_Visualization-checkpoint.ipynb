{
 "cells": [
  {
   "cell_type": "markdown",
   "id": "7cf451e8-8d1b-4b35-b1da-2c6f5eb5b89d",
   "metadata": {},
   "source": [
    "# **Data Visualization in R**\n",
    "\n",
    "Welcome to this self-study tutorial on data visualization using `ggplot2` from the `tidyverse` package. `ggplot2` is a powerful and flexible tool for creating a wide range of data visualizations in R. Through this tutorial, you'll learn how to create different types of plots and interpret them to gain insights into your data."
   ]
  },
  {
   "cell_type": "markdown",
   "id": "a83ce339-b000-40d3-9835-a905e42fa81c",
   "metadata": {},
   "source": [
    "## Loading the Packages\n",
    "\n",
    "The first step is to load the necessary packages. We filter rows with missing values (NA's) to avoid error messages."
   ]
  },
  {
   "cell_type": "code",
   "execution_count": 1,
   "id": "6046bbdc-2fa7-46f1-b189-8ce1a615fb44",
   "metadata": {},
   "outputs": [
    {
     "name": "stderr",
     "output_type": "stream",
     "text": [
      "── \u001b[1mAttaching core tidyverse packages\u001b[22m ──────────────────────── tidyverse 2.0.0 ──\n",
      "\u001b[32m✔\u001b[39m \u001b[34mdplyr    \u001b[39m 1.1.4     \u001b[32m✔\u001b[39m \u001b[34mreadr    \u001b[39m 2.1.5\n",
      "\u001b[32m✔\u001b[39m \u001b[34mforcats  \u001b[39m 1.0.0     \u001b[32m✔\u001b[39m \u001b[34mstringr  \u001b[39m 1.5.1\n",
      "\u001b[32m✔\u001b[39m \u001b[34mggplot2  \u001b[39m 3.5.1     \u001b[32m✔\u001b[39m \u001b[34mtibble   \u001b[39m 3.2.1\n",
      "\u001b[32m✔\u001b[39m \u001b[34mlubridate\u001b[39m 1.9.3     \u001b[32m✔\u001b[39m \u001b[34mtidyr    \u001b[39m 1.3.1\n",
      "\u001b[32m✔\u001b[39m \u001b[34mpurrr    \u001b[39m 1.0.2     \n",
      "── \u001b[1mConflicts\u001b[22m ────────────────────────────────────────── tidyverse_conflicts() ──\n",
      "\u001b[31m✖\u001b[39m \u001b[34mdplyr\u001b[39m::\u001b[32mfilter()\u001b[39m masks \u001b[34mstats\u001b[39m::filter()\n",
      "\u001b[31m✖\u001b[39m \u001b[34mdplyr\u001b[39m::\u001b[32mlag()\u001b[39m    masks \u001b[34mstats\u001b[39m::lag()\n",
      "\u001b[36mℹ\u001b[39m Use the conflicted package (\u001b[3m\u001b[34m<http://conflicted.r-lib.org/>\u001b[39m\u001b[23m) to force all conflicts to become errors\n"
     ]
    },
    {
     "name": "stdout",
     "output_type": "stream",
     "text": [
      "[1] \"packages loaded\"\n"
     ]
    }
   ],
   "source": [
    "############################################################################################\n",
    "\n",
    "# Load the tidyverse package, which includes ggplot2\n",
    "library(tidyverse)\n",
    "\n",
    "# Load the nycflights13 package, which includes the flights dataset\n",
    "library(nycflights13)\n",
    "\n",
    "# Filter out rows with missing or non-finite values in distance and air_time\n",
    "flights <- filter(flights, !is.na(distance) & !is.na(air_time) & is.finite(distance) & is.finite(air_time))\n",
    "\n",
    "print(\"packages loaded\")\n",
    "\n",
    "############################################################################################"
   ]
  },
  {
   "cell_type": "markdown",
   "id": "a2a1e9c4-defd-422d-b162-607d94dc7fae",
   "metadata": {},
   "source": [
    "## General Information about ggplot2 \n",
    "\n",
    "`ggplot2` uses a layered approach to build plots. Here are the main components:\n",
    "\n",
    "- **Data**: The dataset you want to visualize.\n",
    "- **Aesthetics (`aes`)**: Defines how data are mapped to visual properties (e.g., x and y axes, color, size).\n",
    "- **Geometries (`geom_`)**: Defines the type of plot (e.g., points for scatter plots, bars for bar plots).\n",
    "- **Labels (`labs`)**: Adds titles and axis labels to the plot.\n",
    "- **Themes**: Customizes the appearance of the plot (e.g., background color, grid lines).\n",
    "\n",
    "A typical `ggplot2` code structure looks like this:\n",
    "\n",
    "```r\n",
    "ggplot(data = <DATA>, aes(x = <X-VAR>, y = <Y-VAR>)) +\n",
    "  geom_<GEOM>() +\n",
    "  labs(title = \"<TITLE>\", x = \"<X-LABEL>\", y = \"<Y-LABEL>\") +\n",
    "  theme_<THEME>()\n",
    "```"
   ]
  },
  {
   "cell_type": "markdown",
   "id": "2b823f99-b6eb-45a2-9ad8-6f968b309529",
   "metadata": {},
   "source": [
    "\n",
    "## Basic Scatter Plot\n",
    "\n",
    "A scatter plot is useful for visualizing the relationship between two numerical variables.\n",
    "\n",
    "**Example:** Scatter Plot of `air_time` vs `distance`"
   ]
  },
  {
   "cell_type": "code",
   "execution_count": null,
   "id": "f700ddaa-6703-4968-9c95-11f0e344b350",
   "metadata": {},
   "outputs": [],
   "source": [
    "############################################################################################\n",
    "\n",
    "# Scatter plot of air_time vs distance with a regression line\n",
    "ggplot(data = flights, aes(x = distance, y = air_time)) +\n",
    "  geom_point() +\n",
    "  geom_smooth(formula = 'y ~ x', method = \"lm\", col = \"red\") +\n",
    "  labs(title = \"Scatter Plot of Air Time vs Distance\",\n",
    "       x = \"Distance\",\n",
    "       y = \"Air Time\")\n",
    "\n",
    "############################################################################################"
   ]
  },
  {
   "cell_type": "markdown",
   "id": "ba741c71-34d8-432c-93d9-a3f2242c474a",
   "metadata": {},
   "source": [
    "**Interpretation:** This scatter plot shows the relationship between the distance of a flight and its air time. A positive correlation is expected, as longer distances generally require more air time. Outliers could indicate unusually fast or slow flights, possibly due to wind conditions or routing. The red line represents a linear regression, providing an estimate of the trend."
   ]
  },
  {
   "cell_type": "markdown",
   "id": "2532550e-19d8-4b48-99a6-01a675182a39",
   "metadata": {},
   "source": [
    "**Exercise:** Create a scatter plot of `dep_delay` vs `arr_delay`. What is the relationship between these two variables?\n",
    "\n",
    "Fill in the `???` in the code below to complete the exercise."
   ]
  },
  {
   "cell_type": "code",
   "execution_count": null,
   "id": "1729cc7a-56bf-4a52-bf04-d2cd32b42ada",
   "metadata": {},
   "outputs": [],
   "source": [
    "############################################################################################\n",
    "\n",
    "# Scatter plot of dep_delay vs arr_delay\n",
    "ggplot(data = flights, aes(x = ???, y = ???)) +\n",
    "  geom_point() +\n",
    "  labs(title = \"Scatter Plot of Departure Delay vs Arrival Delay\",\n",
    "       x = \"Departure Delay\",\n",
    "       y = \"Arrival Delay\")\n",
    "\n",
    "############################################################################################"
   ]
  },
  {
   "cell_type": "markdown",
   "id": "3f6a20c7-6bce-4b90-8e16-f45d70f3d0d7",
   "metadata": {},
   "source": [
    "## Histogram\n",
    "\n",
    "A histogram is useful for visualizing the distribution of a single numerical variable.\n",
    "\n",
    "**Example:** Histogram of `air_time`"
   ]
  },
  {
   "cell_type": "code",
   "execution_count": null,
   "id": "b32da7aa-273f-4df7-811c-7ebefe09a1d7",
   "metadata": {},
   "outputs": [],
   "source": [
    "############################################################################################\n",
    "\n",
    "# Histogram of air_time\n",
    "ggplot(data = flights, aes(x = air_time)) +\n",
    "  geom_histogram(binwidth = 10, fill = \"blue\", color = \"black\") +\n",
    "  labs(title = \"Histogram of Air Time\",\n",
    "       x = \"Air Time\",\n",
    "       y = \"Count\")\n",
    "\n",
    "############################################################################################"
   ]
  },
  {
   "cell_type": "markdown",
   "id": "22e68c6d-d437-4f2a-b2c6-997904f2bcc1",
   "metadata": {},
   "source": [
    "**Interpretation:** This histogram displays the distribution of flight air times. Peaks indicate the most common flight durations, while the spread shows the variability. Understanding this can help airlines optimize flight schedules and resources.\n"
   ]
  },
  {
   "cell_type": "markdown",
   "id": "5b7ec780-7abf-431c-af40-d2f2c0986485",
   "metadata": {},
   "source": [
    "**Exercise:** Create a histogram of the `distance` variable. What is the most common distance?\n",
    "\n",
    "Fill in the `???` in the code below to complete the exercise."
   ]
  },
  {
   "cell_type": "code",
   "execution_count": null,
   "id": "5ba00541-a664-40cd-8382-cc25bf1194fd",
   "metadata": {},
   "outputs": [],
   "source": [
    "############################################################################################\n",
    "\n",
    "# Histogram of distance\n",
    "ggplot(data = flights, aes(x = ???)) +\n",
    "  geom_histogram(binwidth = 100, fill = \"green\", color = \"black\") +\n",
    "  labs(title = \"Histogram of Distance\",\n",
    "       x = \"Distance\",\n",
    "       y = \"Count\")\n",
    "\n",
    "############################################################################################"
   ]
  },
  {
   "cell_type": "markdown",
   "id": "d0076a97-1bd7-4de2-a216-1ca8e30fba90",
   "metadata": {},
   "source": [
    "## Box Plot\n",
    "\n",
    "A box plot is useful for visualizing the distribution of a numerical variable across different categories.\n",
    "\n",
    "**Example:** Box Plot of `dep_delay` by `carrier`"
   ]
  },
  {
   "cell_type": "code",
   "execution_count": null,
   "id": "743dbd2a-8fd4-445b-8d6d-7e97b98a99fa",
   "metadata": {},
   "outputs": [],
   "source": [
    "############################################################################################\n",
    "\n",
    "# Box plot of dep_delay by carrier\n",
    "ggplot(data = flights, aes(x = carrier, y = dep_delay)) +\n",
    "  geom_boxplot() +\n",
    "  labs(title = \"Box Plot of Departure Delay by Carrier\",\n",
    "       x = \"Carrier\",\n",
    "       y = \"Departure Delay\")\n",
    "\n",
    "############################################################################################"
   ]
  },
  {
   "cell_type": "markdown",
   "id": "8f5e4a3b-2282-42bb-8ab3-ca8347f5d44c",
   "metadata": {},
   "source": [
    "**Interpretation:** This box plot provides a visual summary of the distribution of departure delays for different carriers. Here's how to interpret the various components of the box plot:\n",
    "\n",
    "- **Median**: The thick line inside each box represents the median (50th percentile) departure delay for each carrier. It gives an idea of the central tendency of the delays.\n",
    "- **Interquartile Range (IQR)**: The box itself spans from the 25th percentile (Q1) to the 75th percentile (Q3). This range contains the middle 50% of the data. A smaller IQR indicates that the delays are more consistent, while a larger IQR suggests greater variability.\n",
    "- **Whiskers**: The lines extending from the top and bottom of each box (whiskers) represent the range of the data within 1.5 times the IQR from the Q1 and Q3. Points outside this range are considered outliers.\n",
    "- **Outliers**: Individual points beyond the whiskers are outliers. These are flights with unusually high or low departure delays. Outliers can indicate exceptional circumstances or errors.\n",
    "\n",
    "By examining the box plots for each carrier, you can compare their performance in terms of departure delays. For example, if a carrier has a high median delay and a large IQR, it suggests that their flights are frequently delayed and the delays are highly variable. Conversely, a carrier with a low median and small IQR is performing better with more consistent departure times. Identifying carriers with consistent delays can guide decisions on improving punctuality and overall service quality."
   ]
  },
  {
   "cell_type": "markdown",
   "id": "a364244f-596b-4381-8daf-8a7889b48ee0",
   "metadata": {},
   "source": [
    "**Exercise:** Create a box plot of `arr_delay` by `origin`. Which origin has the most variability in arrival delays?\n",
    "\n",
    "The variable `origin` represents the airport from which the flight departed. The possible values are EWR (Newark Liberty International Airport), JFK (John F. Kennedy International Airport), and LGA (LaGuardia Airport).\n",
    "\n",
    "Fill in the `???` in the code below to complete the exercise."
   ]
  },
  {
   "cell_type": "code",
   "execution_count": null,
   "id": "134ee983-7774-4362-84ff-698b6a44fa5f",
   "metadata": {},
   "outputs": [],
   "source": [
    "############################################################################################\n",
    "\n",
    "# Box plot of arr_delay by origin\n",
    "ggplot(data = flights, aes(x = ???, y = ???)) +\n",
    "  geom_boxplot() +\n",
    "  labs(title = \"Box Plot of Arrival Delay by Origin\",\n",
    "       x = \"Origin\",\n",
    "       y = \"Arrival Delay\")\n",
    "\n",
    "############################################################################################"
   ]
  },
  {
   "cell_type": "markdown",
   "id": "265b4c7a-4740-4f72-94f3-9fa5d113c457",
   "metadata": {},
   "source": [
    "\n",
    "## Bar Plot\n",
    "\n",
    "A bar plot is useful for visualizing the distribution of a categorical variable.\n",
    "\n",
    "**Example:** Bar Plot of `carrier`"
   ]
  },
  {
   "cell_type": "code",
   "execution_count": null,
   "id": "a87759fc-c2e8-47ca-8a4d-38cc2686b50e",
   "metadata": {},
   "outputs": [],
   "source": [
    "############################################################################################\n",
    "\n",
    "# Bar plot of carrier\n",
    "ggplot(data = flights, aes(x = carrier)) +\n",
    "  geom_bar(fill = \"blue\", color = \"black\") +\n",
    "  labs(title = \"Bar Plot of Carriers\",\n",
    "       x = \"Carrier\",\n",
    "       y = \"Count\")\n",
    "\n",
    "############################################################################################"
   ]
  },
  {
   "cell_type": "markdown",
   "id": "8d5c8144-5fc3-40ab-b66d-fa88c435381d",
   "metadata": {},
   "source": [
    "**Interpretation:** This bar plot shows the number of flights for each carrier. It provides insights into market share and can help identify the most and least active carriers."
   ]
  },
  {
   "cell_type": "markdown",
   "id": "0c8ec820-b8d9-495e-9662-b53f77c2e5b1",
   "metadata": {},
   "source": [
    "**Exercise:** Create a bar plot of the `origin` variable. How many flights departed from each origin?\n",
    "\n",
    "Fill in the `???` in the code below to complete the exercise."
   ]
  },
  {
   "cell_type": "code",
   "execution_count": null,
   "id": "50c26905-7dda-4449-840d-669f3cb9d5b2",
   "metadata": {},
   "outputs": [],
   "source": [
    "############################################################################################\n",
    "\n",
    "# Bar plot of origin\n",
    "ggplot(data = flights, aes(x = ???)) +\n",
    "  geom_bar(fill = \"purple\", color = \"black\") +\n",
    "  labs(title = \"Bar Plot of Origins\",\n",
    "       x = \"Origin\",\n",
    "       y = \"Count\")\n",
    "\n",
    "############################################################################################"
   ]
  },
  {
   "cell_type": "markdown",
   "id": "31e9bea2-60b3-43cb-8e57-e93e365c9df9",
   "metadata": {},
   "source": [
    "## Line Plot\n",
    "\n",
    "A line plot is useful for visualizing trends over time.\n",
    "\n",
    "**Example:** Line Plot of Average `dep_delay` by Month"
   ]
  },
  {
   "cell_type": "code",
   "execution_count": null,
   "id": "6bf4292b-e7d3-442e-bb60-782d0d899c8d",
   "metadata": {},
   "outputs": [],
   "source": [
    "############################################################################################\n",
    "\n",
    "# Line plot of average departure delay by month\n",
    "ggplot(data = flights, aes(x = month, y = dep_delay)) +\n",
    "  stat_summary(fun = mean, geom = \"line\", color = \"blue\") +\n",
    "  labs(title = \"Line Plot of Average Departure Delay by Month\",\n",
    "       x = \"Month\",\n",
    "       y = \"Average Departure Delay\")\n",
    "\n",
    "############################################################################################"
   ]
  },
  {
   "cell_type": "markdown",
   "id": "b96c87a3-688d-4cd9-b5aa-1189fe8e77ee",
   "metadata": {},
   "source": [
    "**Interpretation:** This line plot shows the trend of average departure delays over the months. Seasonal patterns may emerge, such as increased delays during holiday seasons or winter months. This can help airlines plan better for peak times and adverse weather conditions."
   ]
  },
  {
   "cell_type": "markdown",
   "id": "54d37b2d-c7c6-40d7-a8fa-2d5e430e2a11",
   "metadata": {},
   "source": [
    "**Exercise:** Create a line plot of the average `air_time` by `day`. How does the average air time change over the days of the month?\n",
    "\n",
    "Fill in the `???` in the code below to complete the exercise."
   ]
  },
  {
   "cell_type": "code",
   "execution_count": null,
   "id": "8db2cbfe-6d1d-4e6c-b6bf-008930d5094e",
   "metadata": {},
   "outputs": [],
   "source": [
    "############################################################################################\n",
    "\n",
    "# Line plot of average air_time by day\n",
    "ggplot(data = flights, aes(x = ???, y = ???)) +\n",
    "  stat_summary(fun = mean, geom = \"line\", color = \"red\") +\n",
    "  labs(title = \"Line Plot of Average Air Time by Day\",\n",
    "       x = \"Day\",\n",
    "       y = \"Average Air Time\")\n",
    "\n",
    "############################################################################################"
   ]
  }
 ],
 "metadata": {
  "kernelspec": {
   "display_name": "R",
   "language": "R",
   "name": "ir"
  },
  "language_info": {
   "codemirror_mode": "r",
   "file_extension": ".r",
   "mimetype": "text/x-r-source",
   "name": "R",
   "pygments_lexer": "r",
   "version": "4.3.3"
  }
 },
 "nbformat": 4,
 "nbformat_minor": 5
}
