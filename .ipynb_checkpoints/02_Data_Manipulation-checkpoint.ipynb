{
 "cells": [
  {
   "cell_type": "markdown",
   "id": "1bf52692-8c55-41cc-b0ed-5abb4ee11671",
   "metadata": {},
   "source": [
    "# **Data Manipulation in R**\n",
    "\n",
    "Data manipulation is essential for cleaning, transforming, and preparing data for analysis. In R, a common approach for data manipulation is using the `dplyr` package, which is included in the `tidyverse`. This tutorial provides examples of common data manipulation tasks using the `dplyr` package, applied to the `flights` dataset from the `nycflights13` package.s"
   ]
  },
  {
   "cell_type": "markdown",
   "id": "ac6c543d-9eb2-45df-8f14-d57347166bfd",
   "metadata": {},
   "source": [
    "## Loading the Packages\n",
    "\n",
    "First, we need to load the necessary packages."
   ]
  },
  {
   "cell_type": "code",
   "execution_count": 1,
   "id": "4680790f-d2ec-4c23-9f4d-9b6fb24314d6",
   "metadata": {},
   "outputs": [
    {
     "name": "stderr",
     "output_type": "stream",
     "text": [
      "── \u001b[1mAttaching core tidyverse packages\u001b[22m ──────────────────────── tidyverse 2.0.0 ──\n",
      "\u001b[32m✔\u001b[39m \u001b[34mdplyr    \u001b[39m 1.1.4     \u001b[32m✔\u001b[39m \u001b[34mreadr    \u001b[39m 2.1.5\n",
      "\u001b[32m✔\u001b[39m \u001b[34mforcats  \u001b[39m 1.0.0     \u001b[32m✔\u001b[39m \u001b[34mstringr  \u001b[39m 1.5.1\n",
      "\u001b[32m✔\u001b[39m \u001b[34mggplot2  \u001b[39m 3.5.1     \u001b[32m✔\u001b[39m \u001b[34mtibble   \u001b[39m 3.2.1\n",
      "\u001b[32m✔\u001b[39m \u001b[34mlubridate\u001b[39m 1.9.3     \u001b[32m✔\u001b[39m \u001b[34mtidyr    \u001b[39m 1.3.1\n",
      "\u001b[32m✔\u001b[39m \u001b[34mpurrr    \u001b[39m 1.0.2     \n",
      "── \u001b[1mConflicts\u001b[22m ────────────────────────────────────────── tidyverse_conflicts() ──\n",
      "\u001b[31m✖\u001b[39m \u001b[34mdplyr\u001b[39m::\u001b[32mfilter()\u001b[39m masks \u001b[34mstats\u001b[39m::filter()\n",
      "\u001b[31m✖\u001b[39m \u001b[34mdplyr\u001b[39m::\u001b[32mlag()\u001b[39m    masks \u001b[34mstats\u001b[39m::lag()\n",
      "\u001b[36mℹ\u001b[39m Use the conflicted package (\u001b[3m\u001b[34m<http://conflicted.r-lib.org/>\u001b[39m\u001b[23m) to force all conflicts to become errors\n"
     ]
    },
    {
     "name": "stdout",
     "output_type": "stream",
     "text": [
      "[1] \"packages loaded\"\n"
     ]
    }
   ],
   "source": [
    "############################################################################################\n",
    "\n",
    "# Load the tidyverse package, a collection of R packages for data science\n",
    "library(tidyverse)\n",
    "\n",
    "# Load the nycflights13 package, which includes the flights dataset\n",
    "library(nycflights13)\n",
    "\n",
    "print(\"packages loaded\")\n",
    "\n",
    "############################################################################################"
   ]
  },
  {
   "cell_type": "markdown",
   "id": "c818e3d7-798b-4ce9-ac2f-351be2b38afd",
   "metadata": {},
   "source": [
    "## Filtering Rows\n",
    "\n",
    "To filter rows based on specific conditions, use the `filter()` function. For example, to find flights with a departure delay greater than 60 minutes:"
   ]
  },
  {
   "cell_type": "code",
   "execution_count": 2,
   "id": "2f3b922c-f406-45f4-9d3a-278954b4f910",
   "metadata": {},
   "outputs": [
    {
     "data": {
      "text/html": [
       "<table class=\"dataframe\">\n",
       "<caption>A tibble: 6 × 19</caption>\n",
       "<thead>\n",
       "\t<tr><th scope=col>year</th><th scope=col>month</th><th scope=col>day</th><th scope=col>dep_time</th><th scope=col>sched_dep_time</th><th scope=col>dep_delay</th><th scope=col>arr_time</th><th scope=col>sched_arr_time</th><th scope=col>arr_delay</th><th scope=col>carrier</th><th scope=col>flight</th><th scope=col>tailnum</th><th scope=col>origin</th><th scope=col>dest</th><th scope=col>air_time</th><th scope=col>distance</th><th scope=col>hour</th><th scope=col>minute</th><th scope=col>time_hour</th></tr>\n",
       "\t<tr><th scope=col>&lt;int&gt;</th><th scope=col>&lt;int&gt;</th><th scope=col>&lt;int&gt;</th><th scope=col>&lt;int&gt;</th><th scope=col>&lt;int&gt;</th><th scope=col>&lt;dbl&gt;</th><th scope=col>&lt;int&gt;</th><th scope=col>&lt;int&gt;</th><th scope=col>&lt;dbl&gt;</th><th scope=col>&lt;chr&gt;</th><th scope=col>&lt;int&gt;</th><th scope=col>&lt;chr&gt;</th><th scope=col>&lt;chr&gt;</th><th scope=col>&lt;chr&gt;</th><th scope=col>&lt;dbl&gt;</th><th scope=col>&lt;dbl&gt;</th><th scope=col>&lt;dbl&gt;</th><th scope=col>&lt;dbl&gt;</th><th scope=col>&lt;dttm&gt;</th></tr>\n",
       "</thead>\n",
       "<tbody>\n",
       "\t<tr><td>2013</td><td>1</td><td>1</td><td> 811</td><td> 630</td><td>101</td><td>1047</td><td> 830</td><td>137</td><td>MQ</td><td>4576</td><td>N531MQ</td><td>LGA</td><td>CLT</td><td>118</td><td> 544</td><td> 6</td><td>30</td><td>2013-01-01 06:00:00</td></tr>\n",
       "\t<tr><td>2013</td><td>1</td><td>1</td><td> 826</td><td> 715</td><td> 71</td><td>1136</td><td>1045</td><td> 51</td><td>AA</td><td> 443</td><td>N3GVAA</td><td>JFK</td><td>MIA</td><td>160</td><td>1089</td><td> 7</td><td>15</td><td>2013-01-01 07:00:00</td></tr>\n",
       "\t<tr><td>2013</td><td>1</td><td>1</td><td> 848</td><td>1835</td><td>853</td><td>1001</td><td>1950</td><td>851</td><td>MQ</td><td>3944</td><td>N942MQ</td><td>JFK</td><td>BWI</td><td> 41</td><td> 184</td><td>18</td><td>35</td><td>2013-01-01 18:00:00</td></tr>\n",
       "\t<tr><td>2013</td><td>1</td><td>1</td><td> 957</td><td> 733</td><td>144</td><td>1056</td><td> 853</td><td>123</td><td>UA</td><td> 856</td><td>N534UA</td><td>EWR</td><td>BOS</td><td> 37</td><td> 200</td><td> 7</td><td>33</td><td>2013-01-01 07:00:00</td></tr>\n",
       "\t<tr><td>2013</td><td>1</td><td>1</td><td>1114</td><td> 900</td><td>134</td><td>1447</td><td>1222</td><td>145</td><td>UA</td><td>1086</td><td>N76502</td><td>LGA</td><td>IAH</td><td>248</td><td>1416</td><td> 9</td><td> 0</td><td>2013-01-01 09:00:00</td></tr>\n",
       "\t<tr><td>2013</td><td>1</td><td>1</td><td>1120</td><td> 944</td><td> 96</td><td>1331</td><td>1213</td><td> 78</td><td>EV</td><td>4495</td><td>N16561</td><td>EWR</td><td>SAV</td><td>117</td><td> 708</td><td> 9</td><td>44</td><td>2013-01-01 09:00:00</td></tr>\n",
       "</tbody>\n",
       "</table>\n"
      ],
      "text/latex": [
       "A tibble: 6 × 19\n",
       "\\begin{tabular}{lllllllllllllllllll}\n",
       " year & month & day & dep\\_time & sched\\_dep\\_time & dep\\_delay & arr\\_time & sched\\_arr\\_time & arr\\_delay & carrier & flight & tailnum & origin & dest & air\\_time & distance & hour & minute & time\\_hour\\\\\n",
       " <int> & <int> & <int> & <int> & <int> & <dbl> & <int> & <int> & <dbl> & <chr> & <int> & <chr> & <chr> & <chr> & <dbl> & <dbl> & <dbl> & <dbl> & <dttm>\\\\\n",
       "\\hline\n",
       "\t 2013 & 1 & 1 &  811 &  630 & 101 & 1047 &  830 & 137 & MQ & 4576 & N531MQ & LGA & CLT & 118 &  544 &  6 & 30 & 2013-01-01 06:00:00\\\\\n",
       "\t 2013 & 1 & 1 &  826 &  715 &  71 & 1136 & 1045 &  51 & AA &  443 & N3GVAA & JFK & MIA & 160 & 1089 &  7 & 15 & 2013-01-01 07:00:00\\\\\n",
       "\t 2013 & 1 & 1 &  848 & 1835 & 853 & 1001 & 1950 & 851 & MQ & 3944 & N942MQ & JFK & BWI &  41 &  184 & 18 & 35 & 2013-01-01 18:00:00\\\\\n",
       "\t 2013 & 1 & 1 &  957 &  733 & 144 & 1056 &  853 & 123 & UA &  856 & N534UA & EWR & BOS &  37 &  200 &  7 & 33 & 2013-01-01 07:00:00\\\\\n",
       "\t 2013 & 1 & 1 & 1114 &  900 & 134 & 1447 & 1222 & 145 & UA & 1086 & N76502 & LGA & IAH & 248 & 1416 &  9 &  0 & 2013-01-01 09:00:00\\\\\n",
       "\t 2013 & 1 & 1 & 1120 &  944 &  96 & 1331 & 1213 &  78 & EV & 4495 & N16561 & EWR & SAV & 117 &  708 &  9 & 44 & 2013-01-01 09:00:00\\\\\n",
       "\\end{tabular}\n"
      ],
      "text/markdown": [
       "\n",
       "A tibble: 6 × 19\n",
       "\n",
       "| year &lt;int&gt; | month &lt;int&gt; | day &lt;int&gt; | dep_time &lt;int&gt; | sched_dep_time &lt;int&gt; | dep_delay &lt;dbl&gt; | arr_time &lt;int&gt; | sched_arr_time &lt;int&gt; | arr_delay &lt;dbl&gt; | carrier &lt;chr&gt; | flight &lt;int&gt; | tailnum &lt;chr&gt; | origin &lt;chr&gt; | dest &lt;chr&gt; | air_time &lt;dbl&gt; | distance &lt;dbl&gt; | hour &lt;dbl&gt; | minute &lt;dbl&gt; | time_hour &lt;dttm&gt; |\n",
       "|---|---|---|---|---|---|---|---|---|---|---|---|---|---|---|---|---|---|---|\n",
       "| 2013 | 1 | 1 |  811 |  630 | 101 | 1047 |  830 | 137 | MQ | 4576 | N531MQ | LGA | CLT | 118 |  544 |  6 | 30 | 2013-01-01 06:00:00 |\n",
       "| 2013 | 1 | 1 |  826 |  715 |  71 | 1136 | 1045 |  51 | AA |  443 | N3GVAA | JFK | MIA | 160 | 1089 |  7 | 15 | 2013-01-01 07:00:00 |\n",
       "| 2013 | 1 | 1 |  848 | 1835 | 853 | 1001 | 1950 | 851 | MQ | 3944 | N942MQ | JFK | BWI |  41 |  184 | 18 | 35 | 2013-01-01 18:00:00 |\n",
       "| 2013 | 1 | 1 |  957 |  733 | 144 | 1056 |  853 | 123 | UA |  856 | N534UA | EWR | BOS |  37 |  200 |  7 | 33 | 2013-01-01 07:00:00 |\n",
       "| 2013 | 1 | 1 | 1114 |  900 | 134 | 1447 | 1222 | 145 | UA | 1086 | N76502 | LGA | IAH | 248 | 1416 |  9 |  0 | 2013-01-01 09:00:00 |\n",
       "| 2013 | 1 | 1 | 1120 |  944 |  96 | 1331 | 1213 |  78 | EV | 4495 | N16561 | EWR | SAV | 117 |  708 |  9 | 44 | 2013-01-01 09:00:00 |\n",
       "\n"
      ],
      "text/plain": [
       "  year month day dep_time sched_dep_time dep_delay arr_time sched_arr_time\n",
       "1 2013 1     1    811      630           101       1047      830          \n",
       "2 2013 1     1    826      715            71       1136     1045          \n",
       "3 2013 1     1    848     1835           853       1001     1950          \n",
       "4 2013 1     1    957      733           144       1056      853          \n",
       "5 2013 1     1   1114      900           134       1447     1222          \n",
       "6 2013 1     1   1120      944            96       1331     1213          \n",
       "  arr_delay carrier flight tailnum origin dest air_time distance hour minute\n",
       "1 137       MQ      4576   N531MQ  LGA    CLT  118       544      6   30    \n",
       "2  51       AA       443   N3GVAA  JFK    MIA  160      1089      7   15    \n",
       "3 851       MQ      3944   N942MQ  JFK    BWI   41       184     18   35    \n",
       "4 123       UA       856   N534UA  EWR    BOS   37       200      7   33    \n",
       "5 145       UA      1086   N76502  LGA    IAH  248      1416      9    0    \n",
       "6  78       EV      4495   N16561  EWR    SAV  117       708      9   44    \n",
       "  time_hour          \n",
       "1 2013-01-01 06:00:00\n",
       "2 2013-01-01 07:00:00\n",
       "3 2013-01-01 18:00:00\n",
       "4 2013-01-01 07:00:00\n",
       "5 2013-01-01 09:00:00\n",
       "6 2013-01-01 09:00:00"
      ]
     },
     "metadata": {},
     "output_type": "display_data"
    }
   ],
   "source": [
    "############################################################################################\n",
    "\n",
    "# Filtering flights with a departure delay greater than 60 minutes\n",
    "filtered_flights <- filter(flights, dep_delay > 60)\n",
    "head(filtered_flights)\n",
    "\n",
    "############################################################################################"
   ]
  },
  {
   "cell_type": "markdown",
   "id": "14463ab5-6003-431d-b9be-8aa78b56bafc",
   "metadata": {},
   "source": [
    "This command creates a new dataset, `filtered_flights`, which contains only the rows where the departure delay (`dep_delay`) is greater than 60 minutes."
   ]
  },
  {
   "cell_type": "markdown",
   "id": "5130d82c-ab5a-4b74-8f86-751b38e671c7",
   "metadata": {},
   "source": [
    "## Selecting Columns\n",
    "\n",
    "To select specific columns from the dataset, use the `select()` function. For example, to select the `dep_delay` and `arr_delay` columns:"
   ]
  },
  {
   "cell_type": "code",
   "execution_count": 3,
   "id": "0424ee7b-4e43-4100-a473-cef071350890",
   "metadata": {},
   "outputs": [
    {
     "data": {
      "text/html": [
       "<table class=\"dataframe\">\n",
       "<caption>A tibble: 6 × 2</caption>\n",
       "<thead>\n",
       "\t<tr><th scope=col>dep_delay</th><th scope=col>arr_delay</th></tr>\n",
       "\t<tr><th scope=col>&lt;dbl&gt;</th><th scope=col>&lt;dbl&gt;</th></tr>\n",
       "</thead>\n",
       "<tbody>\n",
       "\t<tr><td> 2</td><td> 11</td></tr>\n",
       "\t<tr><td> 4</td><td> 20</td></tr>\n",
       "\t<tr><td> 2</td><td> 33</td></tr>\n",
       "\t<tr><td>-1</td><td>-18</td></tr>\n",
       "\t<tr><td>-6</td><td>-25</td></tr>\n",
       "\t<tr><td>-4</td><td> 12</td></tr>\n",
       "</tbody>\n",
       "</table>\n"
      ],
      "text/latex": [
       "A tibble: 6 × 2\n",
       "\\begin{tabular}{ll}\n",
       " dep\\_delay & arr\\_delay\\\\\n",
       " <dbl> & <dbl>\\\\\n",
       "\\hline\n",
       "\t  2 &  11\\\\\n",
       "\t  4 &  20\\\\\n",
       "\t  2 &  33\\\\\n",
       "\t -1 & -18\\\\\n",
       "\t -6 & -25\\\\\n",
       "\t -4 &  12\\\\\n",
       "\\end{tabular}\n"
      ],
      "text/markdown": [
       "\n",
       "A tibble: 6 × 2\n",
       "\n",
       "| dep_delay &lt;dbl&gt; | arr_delay &lt;dbl&gt; |\n",
       "|---|---|\n",
       "|  2 |  11 |\n",
       "|  4 |  20 |\n",
       "|  2 |  33 |\n",
       "| -1 | -18 |\n",
       "| -6 | -25 |\n",
       "| -4 |  12 |\n",
       "\n"
      ],
      "text/plain": [
       "  dep_delay arr_delay\n",
       "1  2         11      \n",
       "2  4         20      \n",
       "3  2         33      \n",
       "4 -1        -18      \n",
       "5 -6        -25      \n",
       "6 -4         12      "
      ]
     },
     "metadata": {},
     "output_type": "display_data"
    }
   ],
   "source": [
    "############################################################################################\n",
    "\n",
    "# Selecting the columns 'dep_delay' and 'arr_delay'\n",
    "selected_columns <- select(flights, dep_delay, arr_delay)\n",
    "head(selected_columns)\n",
    "\n",
    "############################################################################################"
   ]
  },
  {
   "cell_type": "markdown",
   "id": "9d9b5701-a310-4c58-9cd8-4e717f5430a3",
   "metadata": {},
   "source": [
    "This command creates a new dataset, `selected_columns`, which contains only the `dep_delay` and `arr_delay` columns from the original `flights` dataset."
   ]
  },
  {
   "cell_type": "markdown",
   "id": "f5624db6-05c3-426c-81d1-f3d8f46f52a3",
   "metadata": {},
   "source": [
    "## Creating New Columns\n",
    "\n",
    "To create new columns, use the `mutate()` function. For example, to create a new column `total_delay` that is the sum of `dep_delay` and `arr_delay`:"
   ]
  },
  {
   "cell_type": "code",
   "execution_count": 4,
   "id": "58a08774-aa4d-457c-acbf-d33ffb291f06",
   "metadata": {},
   "outputs": [
    {
     "data": {
      "text/html": [
       "<table class=\"dataframe\">\n",
       "<caption>A tibble: 6 × 3</caption>\n",
       "<thead>\n",
       "\t<tr><th scope=col>dep_delay</th><th scope=col>arr_delay</th><th scope=col>total_delay</th></tr>\n",
       "\t<tr><th scope=col>&lt;dbl&gt;</th><th scope=col>&lt;dbl&gt;</th><th scope=col>&lt;dbl&gt;</th></tr>\n",
       "</thead>\n",
       "<tbody>\n",
       "\t<tr><td> 2</td><td> 11</td><td> 13</td></tr>\n",
       "\t<tr><td> 4</td><td> 20</td><td> 24</td></tr>\n",
       "\t<tr><td> 2</td><td> 33</td><td> 35</td></tr>\n",
       "\t<tr><td>-1</td><td>-18</td><td>-19</td></tr>\n",
       "\t<tr><td>-6</td><td>-25</td><td>-31</td></tr>\n",
       "\t<tr><td>-4</td><td> 12</td><td>  8</td></tr>\n",
       "</tbody>\n",
       "</table>\n"
      ],
      "text/latex": [
       "A tibble: 6 × 3\n",
       "\\begin{tabular}{lll}\n",
       " dep\\_delay & arr\\_delay & total\\_delay\\\\\n",
       " <dbl> & <dbl> & <dbl>\\\\\n",
       "\\hline\n",
       "\t  2 &  11 &  13\\\\\n",
       "\t  4 &  20 &  24\\\\\n",
       "\t  2 &  33 &  35\\\\\n",
       "\t -1 & -18 & -19\\\\\n",
       "\t -6 & -25 & -31\\\\\n",
       "\t -4 &  12 &   8\\\\\n",
       "\\end{tabular}\n"
      ],
      "text/markdown": [
       "\n",
       "A tibble: 6 × 3\n",
       "\n",
       "| dep_delay &lt;dbl&gt; | arr_delay &lt;dbl&gt; | total_delay &lt;dbl&gt; |\n",
       "|---|---|---|\n",
       "|  2 |  11 |  13 |\n",
       "|  4 |  20 |  24 |\n",
       "|  2 |  33 |  35 |\n",
       "| -1 | -18 | -19 |\n",
       "| -6 | -25 | -31 |\n",
       "| -4 |  12 |   8 |\n",
       "\n"
      ],
      "text/plain": [
       "  dep_delay arr_delay total_delay\n",
       "1  2         11        13        \n",
       "2  4         20        24        \n",
       "3  2         33        35        \n",
       "4 -1        -18       -19        \n",
       "5 -6        -25       -31        \n",
       "6 -4         12         8        "
      ]
     },
     "metadata": {},
     "output_type": "display_data"
    }
   ],
   "source": [
    "############################################################################################\n",
    "\n",
    "# Creating a new column 'total_delay'\n",
    "selected_columns <- mutate(selected_columns, total_delay = dep_delay + arr_delay)\n",
    "head(selected_columns)\n",
    "\n",
    "############################################################################################"
   ]
  },
  {
   "cell_type": "markdown",
   "id": "acf7c84d-a435-46f3-b5bb-354fc440c493",
   "metadata": {},
   "source": [
    "This command manipulates the `selected_columns` dataset, such that it includes all the original columns plus a new column `total_delay` that contains the sum of `dep_delay` and `arr_delay` for each flight."
   ]
  },
  {
   "cell_type": "markdown",
   "id": "cee11ef4-333b-4ff7-8d84-c85d49a43a71",
   "metadata": {},
   "source": [
    "## Arranging Rows\n",
    "\n",
    "To sort the rows of the dataset, use the `arrange()` function. For example, to sort flights by departure delay in descending order:"
   ]
  },
  {
   "cell_type": "code",
   "execution_count": 5,
   "id": "6a3f2f58-4524-4a50-8e80-6cf07818068b",
   "metadata": {},
   "outputs": [
    {
     "data": {
      "text/html": [
       "<table class=\"dataframe\">\n",
       "<caption>A tibble: 6 × 19</caption>\n",
       "<thead>\n",
       "\t<tr><th scope=col>year</th><th scope=col>month</th><th scope=col>day</th><th scope=col>dep_time</th><th scope=col>sched_dep_time</th><th scope=col>dep_delay</th><th scope=col>arr_time</th><th scope=col>sched_arr_time</th><th scope=col>arr_delay</th><th scope=col>carrier</th><th scope=col>flight</th><th scope=col>tailnum</th><th scope=col>origin</th><th scope=col>dest</th><th scope=col>air_time</th><th scope=col>distance</th><th scope=col>hour</th><th scope=col>minute</th><th scope=col>time_hour</th></tr>\n",
       "\t<tr><th scope=col>&lt;int&gt;</th><th scope=col>&lt;int&gt;</th><th scope=col>&lt;int&gt;</th><th scope=col>&lt;int&gt;</th><th scope=col>&lt;int&gt;</th><th scope=col>&lt;dbl&gt;</th><th scope=col>&lt;int&gt;</th><th scope=col>&lt;int&gt;</th><th scope=col>&lt;dbl&gt;</th><th scope=col>&lt;chr&gt;</th><th scope=col>&lt;int&gt;</th><th scope=col>&lt;chr&gt;</th><th scope=col>&lt;chr&gt;</th><th scope=col>&lt;chr&gt;</th><th scope=col>&lt;dbl&gt;</th><th scope=col>&lt;dbl&gt;</th><th scope=col>&lt;dbl&gt;</th><th scope=col>&lt;dbl&gt;</th><th scope=col>&lt;dttm&gt;</th></tr>\n",
       "</thead>\n",
       "<tbody>\n",
       "\t<tr><td>2013</td><td>1</td><td> 9</td><td> 641</td><td> 900</td><td>1301</td><td>1242</td><td>1530</td><td>1272</td><td>HA</td><td>  51</td><td>N384HA</td><td>JFK</td><td>HNL</td><td>640</td><td>4983</td><td> 9</td><td> 0</td><td>2013-01-09 09:00:00</td></tr>\n",
       "\t<tr><td>2013</td><td>6</td><td>15</td><td>1432</td><td>1935</td><td>1137</td><td>1607</td><td>2120</td><td>1127</td><td>MQ</td><td>3535</td><td>N504MQ</td><td>JFK</td><td>CMH</td><td> 74</td><td> 483</td><td>19</td><td>35</td><td>2013-06-15 19:00:00</td></tr>\n",
       "\t<tr><td>2013</td><td>1</td><td>10</td><td>1121</td><td>1635</td><td>1126</td><td>1239</td><td>1810</td><td>1109</td><td>MQ</td><td>3695</td><td>N517MQ</td><td>EWR</td><td>ORD</td><td>111</td><td> 719</td><td>16</td><td>35</td><td>2013-01-10 16:00:00</td></tr>\n",
       "\t<tr><td>2013</td><td>9</td><td>20</td><td>1139</td><td>1845</td><td>1014</td><td>1457</td><td>2210</td><td>1007</td><td>AA</td><td> 177</td><td>N338AA</td><td>JFK</td><td>SFO</td><td>354</td><td>2586</td><td>18</td><td>45</td><td>2013-09-20 18:00:00</td></tr>\n",
       "\t<tr><td>2013</td><td>7</td><td>22</td><td> 845</td><td>1600</td><td>1005</td><td>1044</td><td>1815</td><td> 989</td><td>MQ</td><td>3075</td><td>N665MQ</td><td>JFK</td><td>CVG</td><td> 96</td><td> 589</td><td>16</td><td> 0</td><td>2013-07-22 16:00:00</td></tr>\n",
       "\t<tr><td>2013</td><td>4</td><td>10</td><td>1100</td><td>1900</td><td> 960</td><td>1342</td><td>2211</td><td> 931</td><td>DL</td><td>2391</td><td>N959DL</td><td>JFK</td><td>TPA</td><td>139</td><td>1005</td><td>19</td><td> 0</td><td>2013-04-10 19:00:00</td></tr>\n",
       "</tbody>\n",
       "</table>\n"
      ],
      "text/latex": [
       "A tibble: 6 × 19\n",
       "\\begin{tabular}{lllllllllllllllllll}\n",
       " year & month & day & dep\\_time & sched\\_dep\\_time & dep\\_delay & arr\\_time & sched\\_arr\\_time & arr\\_delay & carrier & flight & tailnum & origin & dest & air\\_time & distance & hour & minute & time\\_hour\\\\\n",
       " <int> & <int> & <int> & <int> & <int> & <dbl> & <int> & <int> & <dbl> & <chr> & <int> & <chr> & <chr> & <chr> & <dbl> & <dbl> & <dbl> & <dbl> & <dttm>\\\\\n",
       "\\hline\n",
       "\t 2013 & 1 &  9 &  641 &  900 & 1301 & 1242 & 1530 & 1272 & HA &   51 & N384HA & JFK & HNL & 640 & 4983 &  9 &  0 & 2013-01-09 09:00:00\\\\\n",
       "\t 2013 & 6 & 15 & 1432 & 1935 & 1137 & 1607 & 2120 & 1127 & MQ & 3535 & N504MQ & JFK & CMH &  74 &  483 & 19 & 35 & 2013-06-15 19:00:00\\\\\n",
       "\t 2013 & 1 & 10 & 1121 & 1635 & 1126 & 1239 & 1810 & 1109 & MQ & 3695 & N517MQ & EWR & ORD & 111 &  719 & 16 & 35 & 2013-01-10 16:00:00\\\\\n",
       "\t 2013 & 9 & 20 & 1139 & 1845 & 1014 & 1457 & 2210 & 1007 & AA &  177 & N338AA & JFK & SFO & 354 & 2586 & 18 & 45 & 2013-09-20 18:00:00\\\\\n",
       "\t 2013 & 7 & 22 &  845 & 1600 & 1005 & 1044 & 1815 &  989 & MQ & 3075 & N665MQ & JFK & CVG &  96 &  589 & 16 &  0 & 2013-07-22 16:00:00\\\\\n",
       "\t 2013 & 4 & 10 & 1100 & 1900 &  960 & 1342 & 2211 &  931 & DL & 2391 & N959DL & JFK & TPA & 139 & 1005 & 19 &  0 & 2013-04-10 19:00:00\\\\\n",
       "\\end{tabular}\n"
      ],
      "text/markdown": [
       "\n",
       "A tibble: 6 × 19\n",
       "\n",
       "| year &lt;int&gt; | month &lt;int&gt; | day &lt;int&gt; | dep_time &lt;int&gt; | sched_dep_time &lt;int&gt; | dep_delay &lt;dbl&gt; | arr_time &lt;int&gt; | sched_arr_time &lt;int&gt; | arr_delay &lt;dbl&gt; | carrier &lt;chr&gt; | flight &lt;int&gt; | tailnum &lt;chr&gt; | origin &lt;chr&gt; | dest &lt;chr&gt; | air_time &lt;dbl&gt; | distance &lt;dbl&gt; | hour &lt;dbl&gt; | minute &lt;dbl&gt; | time_hour &lt;dttm&gt; |\n",
       "|---|---|---|---|---|---|---|---|---|---|---|---|---|---|---|---|---|---|---|\n",
       "| 2013 | 1 |  9 |  641 |  900 | 1301 | 1242 | 1530 | 1272 | HA |   51 | N384HA | JFK | HNL | 640 | 4983 |  9 |  0 | 2013-01-09 09:00:00 |\n",
       "| 2013 | 6 | 15 | 1432 | 1935 | 1137 | 1607 | 2120 | 1127 | MQ | 3535 | N504MQ | JFK | CMH |  74 |  483 | 19 | 35 | 2013-06-15 19:00:00 |\n",
       "| 2013 | 1 | 10 | 1121 | 1635 | 1126 | 1239 | 1810 | 1109 | MQ | 3695 | N517MQ | EWR | ORD | 111 |  719 | 16 | 35 | 2013-01-10 16:00:00 |\n",
       "| 2013 | 9 | 20 | 1139 | 1845 | 1014 | 1457 | 2210 | 1007 | AA |  177 | N338AA | JFK | SFO | 354 | 2586 | 18 | 45 | 2013-09-20 18:00:00 |\n",
       "| 2013 | 7 | 22 |  845 | 1600 | 1005 | 1044 | 1815 |  989 | MQ | 3075 | N665MQ | JFK | CVG |  96 |  589 | 16 |  0 | 2013-07-22 16:00:00 |\n",
       "| 2013 | 4 | 10 | 1100 | 1900 |  960 | 1342 | 2211 |  931 | DL | 2391 | N959DL | JFK | TPA | 139 | 1005 | 19 |  0 | 2013-04-10 19:00:00 |\n",
       "\n"
      ],
      "text/plain": [
       "  year month day dep_time sched_dep_time dep_delay arr_time sched_arr_time\n",
       "1 2013 1      9   641      900           1301      1242     1530          \n",
       "2 2013 6     15  1432     1935           1137      1607     2120          \n",
       "3 2013 1     10  1121     1635           1126      1239     1810          \n",
       "4 2013 9     20  1139     1845           1014      1457     2210          \n",
       "5 2013 7     22   845     1600           1005      1044     1815          \n",
       "6 2013 4     10  1100     1900            960      1342     2211          \n",
       "  arr_delay carrier flight tailnum origin dest air_time distance hour minute\n",
       "1 1272      HA        51   N384HA  JFK    HNL  640      4983      9    0    \n",
       "2 1127      MQ      3535   N504MQ  JFK    CMH   74       483     19   35    \n",
       "3 1109      MQ      3695   N517MQ  EWR    ORD  111       719     16   35    \n",
       "4 1007      AA       177   N338AA  JFK    SFO  354      2586     18   45    \n",
       "5  989      MQ      3075   N665MQ  JFK    CVG   96       589     16    0    \n",
       "6  931      DL      2391   N959DL  JFK    TPA  139      1005     19    0    \n",
       "  time_hour          \n",
       "1 2013-01-09 09:00:00\n",
       "2 2013-06-15 19:00:00\n",
       "3 2013-01-10 16:00:00\n",
       "4 2013-09-20 18:00:00\n",
       "5 2013-07-22 16:00:00\n",
       "6 2013-04-10 19:00:00"
      ]
     },
     "metadata": {},
     "output_type": "display_data"
    }
   ],
   "source": [
    "############################################################################################\n",
    "\n",
    "# Sorting flights by departure delay in descending order\n",
    "sorted_flights <- arrange(flights, desc(dep_delay))\n",
    "head(sorted_flights)\n",
    "\n",
    "############################################################################################"
   ]
  },
  {
   "cell_type": "markdown",
   "id": "62ceba6d-6e4b-4f48-bf2e-27001c07c6e9",
   "metadata": {},
   "source": [
    "This command creates a new dataset, `sorted_flights`, which contains all the rows from the original `flights` dataset sorted by `dep_delay` in descending order."
   ]
  },
  {
   "cell_type": "markdown",
   "id": "1c0a4b73-a764-4333-b771-eb7b99dd4608",
   "metadata": {},
   "source": [
    "## Dataframes vs. Matrices in R\n",
    "\n",
    "Understanding the difference between dataframes and matrices is important for data manipulation in R. Dataframes can store different types of data in each column, while matrices can only store one type of data. For example, a dataframe can have one column with numeric data, another column with character data, and another with factor data. In contrast, a matrix can only contain one data type (e.g., all numeric or all character)."
   ]
  },
  {
   "cell_type": "markdown",
   "id": "45859687-1712-4db0-b503-d782406e6086",
   "metadata": {},
   "source": [
    "### Converting a Dataframe to a Matrix\n",
    "\n",
    "The `flights` dataset is stored in a dataframe, and all transformations we have performed so far are for dataframes. If we were to transform the entire `flights` dataframe directly into a matrix, all variables would be converted to character variables because some variables are character strings. However, we want to work with numerical variables. Therefore, we first select the numerical variables `dep_delay`, `arr_delay`, and `air_time` and then transfer them to a matrix."
   ]
  },
  {
   "cell_type": "code",
   "execution_count": 6,
   "id": "4c510405-854a-448b-81d1-bdcb3f06c808",
   "metadata": {},
   "outputs": [
    {
     "data": {
      "text/html": [
       "<table class=\"dataframe\">\n",
       "<caption>A matrix: 6 × 3 of type dbl</caption>\n",
       "<thead>\n",
       "\t<tr><th scope=col>dep_delay</th><th scope=col>arr_delay</th><th scope=col>air_time</th></tr>\n",
       "</thead>\n",
       "<tbody>\n",
       "\t<tr><td> 2</td><td> 11</td><td>227</td></tr>\n",
       "\t<tr><td> 4</td><td> 20</td><td>227</td></tr>\n",
       "\t<tr><td> 2</td><td> 33</td><td>160</td></tr>\n",
       "\t<tr><td>-1</td><td>-18</td><td>183</td></tr>\n",
       "\t<tr><td>-6</td><td>-25</td><td>116</td></tr>\n",
       "\t<tr><td>-4</td><td> 12</td><td>150</td></tr>\n",
       "</tbody>\n",
       "</table>\n"
      ],
      "text/latex": [
       "A matrix: 6 × 3 of type dbl\n",
       "\\begin{tabular}{lll}\n",
       " dep\\_delay & arr\\_delay & air\\_time\\\\\n",
       "\\hline\n",
       "\t  2 &  11 & 227\\\\\n",
       "\t  4 &  20 & 227\\\\\n",
       "\t  2 &  33 & 160\\\\\n",
       "\t -1 & -18 & 183\\\\\n",
       "\t -6 & -25 & 116\\\\\n",
       "\t -4 &  12 & 150\\\\\n",
       "\\end{tabular}\n"
      ],
      "text/markdown": [
       "\n",
       "A matrix: 6 × 3 of type dbl\n",
       "\n",
       "| dep_delay | arr_delay | air_time |\n",
       "|---|---|---|\n",
       "|  2 |  11 | 227 |\n",
       "|  4 |  20 | 227 |\n",
       "|  2 |  33 | 160 |\n",
       "| -1 | -18 | 183 |\n",
       "| -6 | -25 | 116 |\n",
       "| -4 |  12 | 150 |\n",
       "\n"
      ],
      "text/plain": [
       "     dep_delay arr_delay air_time\n",
       "[1,]  2         11       227     \n",
       "[2,]  4         20       227     \n",
       "[3,]  2         33       160     \n",
       "[4,] -1        -18       183     \n",
       "[5,] -6        -25       116     \n",
       "[6,] -4         12       150     "
      ]
     },
     "metadata": {},
     "output_type": "display_data"
    }
   ],
   "source": [
    "############################################################################################\n",
    "\n",
    "# Selecting a subset of the flights dataset with numerical variables\n",
    "df_flights <- select(flights, dep_delay, arr_delay, air_time)\n",
    "\n",
    "# Converting the dataframe to a matrix\n",
    "mat_flights <- as.matrix(df_flights)\n",
    "head(mat_flights)\n",
    "\n",
    "############################################################################################"
   ]
  },
  {
   "cell_type": "markdown",
   "id": "a0e237e1-1fbc-4d3c-a568-1ad46b005cbf",
   "metadata": {},
   "source": [
    "This command converts the dataframe `df_flights`, which contains the `dep_delay`, `arr_delay`, and `air_time` columns, into a matrix `mat_flights`. The resulting matrix retains the numerical values of these columns, making them suitable for mathematical operations."
   ]
  },
  {
   "cell_type": "markdown",
   "id": "0c0842e8-7fd0-483e-9e6a-ebe5dab43630",
   "metadata": {},
   "source": [
    "### Basic Matrix Manipulation\n",
    "\n",
    "#### **Accessing Elements**\n",
    "\n",
    "You can access elements in a matrix using row and column indices in squared brackets."
   ]
  },
  {
   "cell_type": "code",
   "execution_count": 7,
   "id": "a29fdec2-8167-4a3c-bc43-f2e37a41c7ba",
   "metadata": {},
   "outputs": [
    {
     "data": {
      "text/html": [
       "<strong>arr_delay:</strong> 11"
      ],
      "text/latex": [
       "\\textbf{arr\\textbackslash{}\\_delay:} 11"
      ],
      "text/markdown": [
       "**arr_delay:** 11"
      ],
      "text/plain": [
       "arr_delay \n",
       "       11 "
      ]
     },
     "metadata": {},
     "output_type": "display_data"
    }
   ],
   "source": [
    "############################################################################################\n",
    "\n",
    "# Accessing the element in the first row and second column\n",
    "mat_flights[1, 2]\n",
    "\n",
    "############################################################################################"
   ]
  },
  {
   "cell_type": "markdown",
   "id": "8ce22a8c-9bb2-4834-9d54-89ada005d813",
   "metadata": {},
   "source": [
    "This command accesses the element in the first row and second column of the matrix `mat_flights`."
   ]
  },
  {
   "cell_type": "markdown",
   "id": "34a4e88d-fecc-492a-b955-b9e72fdfa32f",
   "metadata": {},
   "source": [
    "#### **Row and Column Operations**\n",
    "\n",
    "You can perform operations on rows and columns."
   ]
  },
  {
   "cell_type": "code",
   "execution_count": 8,
   "id": "b1d7f7f1-30e0-4159-8d25-2dc5078d3c55",
   "metadata": {},
   "outputs": [
    {
     "data": {
      "text/html": [
       "<table class=\"dataframe\">\n",
       "<caption>A matrix: 6 × 4 of type dbl</caption>\n",
       "<thead>\n",
       "\t<tr><th scope=col>dep_delay</th><th scope=col>arr_delay</th><th scope=col>air_time</th><th scope=col>row_sums</th></tr>\n",
       "</thead>\n",
       "<tbody>\n",
       "\t<tr><td> 2</td><td> 11</td><td>227</td><td>240</td></tr>\n",
       "\t<tr><td> 4</td><td> 20</td><td>227</td><td>251</td></tr>\n",
       "\t<tr><td> 2</td><td> 33</td><td>160</td><td>195</td></tr>\n",
       "\t<tr><td>-1</td><td>-18</td><td>183</td><td>164</td></tr>\n",
       "\t<tr><td>-6</td><td>-25</td><td>116</td><td> 85</td></tr>\n",
       "\t<tr><td>-4</td><td> 12</td><td>150</td><td>158</td></tr>\n",
       "</tbody>\n",
       "</table>\n"
      ],
      "text/latex": [
       "A matrix: 6 × 4 of type dbl\n",
       "\\begin{tabular}{llll}\n",
       " dep\\_delay & arr\\_delay & air\\_time & row\\_sums\\\\\n",
       "\\hline\n",
       "\t  2 &  11 & 227 & 240\\\\\n",
       "\t  4 &  20 & 227 & 251\\\\\n",
       "\t  2 &  33 & 160 & 195\\\\\n",
       "\t -1 & -18 & 183 & 164\\\\\n",
       "\t -6 & -25 & 116 &  85\\\\\n",
       "\t -4 &  12 & 150 & 158\\\\\n",
       "\\end{tabular}\n"
      ],
      "text/markdown": [
       "\n",
       "A matrix: 6 × 4 of type dbl\n",
       "\n",
       "| dep_delay | arr_delay | air_time | row_sums |\n",
       "|---|---|---|---|\n",
       "|  2 |  11 | 227 | 240 |\n",
       "|  4 |  20 | 227 | 251 |\n",
       "|  2 |  33 | 160 | 195 |\n",
       "| -1 | -18 | 183 | 164 |\n",
       "| -6 | -25 | 116 |  85 |\n",
       "| -4 |  12 | 150 | 158 |\n",
       "\n"
      ],
      "text/plain": [
       "     dep_delay arr_delay air_time row_sums\n",
       "[1,]  2         11       227      240     \n",
       "[2,]  4         20       227      251     \n",
       "[3,]  2         33       160      195     \n",
       "[4,] -1        -18       183      164     \n",
       "[5,] -6        -25       116       85     \n",
       "[6,] -4         12       150      158     "
      ]
     },
     "metadata": {},
     "output_type": "display_data"
    }
   ],
   "source": [
    "############################################################################################\n",
    "\n",
    "# Calculating the row sums\n",
    "row_sums <- rowSums(mat_flights, na.rm = TRUE)\n",
    "\n",
    "# Adding the row sums as a new column to the matrix\n",
    "mat_flights <- cbind(mat_flights, row_sums)\n",
    "\n",
    "# Displaying the first few rows of the updated matrix\n",
    "head(mat_flights)\n",
    "\n",
    "############################################################################################"
   ]
  },
  {
   "cell_type": "markdown",
   "id": "ec9efaa6-b832-42ff-b395-37c8c8f5775b",
   "metadata": {},
   "source": [
    "This command calculates the sum of each row in the matrix `mat_flights`, ignoring any missing values (NAs). The row sums are then added as a new column to the original matrix. The `head()` function displays the first few rows of the updated matrix, showing the new column with the row sums."
   ]
  },
  {
   "cell_type": "code",
   "execution_count": 9,
   "id": "ff66e2fd-d7b8-4d87-b13e-70ac44163c4e",
   "metadata": {},
   "outputs": [
    {
     "name": "stdout",
     "output_type": "stream",
     "text": [
      " dep_delay  arr_delay   air_time   row_sums \n",
      " 12.639070   6.895377 150.686460 165.498682 \n"
     ]
    }
   ],
   "source": [
    "############################################################################################\n",
    "\n",
    "# Calculating the column means\n",
    "col_means <- colMeans(mat_flights, na.rm = TRUE)\n",
    "print(col_means)\n",
    "\n",
    "############################################################################################"
   ]
  },
  {
   "cell_type": "markdown",
   "id": "b9d455df-0984-4f90-8c22-9fa8e351c7db",
   "metadata": {},
   "source": [
    "This command calculate the mean of each column in the matrix `mat_flights`."
   ]
  },
  {
   "cell_type": "markdown",
   "id": "17260357-285e-4828-95a9-d81caab18f91",
   "metadata": {},
   "source": [
    "#### **Matrix Arithmetic**\n",
    "\n",
    "You can also perform arithmetic operations on matrices."
   ]
  },
  {
   "cell_type": "code",
   "execution_count": 10,
   "id": "a9727105-3ea5-49c8-a256-77789a1dcb2c",
   "metadata": {},
   "outputs": [
    {
     "data": {
      "text/html": [
       "<table class=\"dataframe\">\n",
       "<caption>A matrix: 6 × 6 of type dbl</caption>\n",
       "<thead>\n",
       "\t<tr><th scope=col>dep_delay</th><th scope=col>arr_delay</th><th scope=col>air_time</th><th scope=col>row_sums</th><th scope=col>dep_delay_add</th><th scope=col>arr_delay_mult</th></tr>\n",
       "</thead>\n",
       "<tbody>\n",
       "\t<tr><td> 2</td><td> 11</td><td>227</td><td>240</td><td>12</td><td> 22</td></tr>\n",
       "\t<tr><td> 4</td><td> 20</td><td>227</td><td>251</td><td>14</td><td> 40</td></tr>\n",
       "\t<tr><td> 2</td><td> 33</td><td>160</td><td>195</td><td>12</td><td> 66</td></tr>\n",
       "\t<tr><td>-1</td><td>-18</td><td>183</td><td>164</td><td> 9</td><td>-36</td></tr>\n",
       "\t<tr><td>-6</td><td>-25</td><td>116</td><td> 85</td><td> 4</td><td>-50</td></tr>\n",
       "\t<tr><td>-4</td><td> 12</td><td>150</td><td>158</td><td> 6</td><td> 24</td></tr>\n",
       "</tbody>\n",
       "</table>\n"
      ],
      "text/latex": [
       "A matrix: 6 × 6 of type dbl\n",
       "\\begin{tabular}{llllll}\n",
       " dep\\_delay & arr\\_delay & air\\_time & row\\_sums & dep\\_delay\\_add & arr\\_delay\\_mult\\\\\n",
       "\\hline\n",
       "\t  2 &  11 & 227 & 240 & 12 &  22\\\\\n",
       "\t  4 &  20 & 227 & 251 & 14 &  40\\\\\n",
       "\t  2 &  33 & 160 & 195 & 12 &  66\\\\\n",
       "\t -1 & -18 & 183 & 164 &  9 & -36\\\\\n",
       "\t -6 & -25 & 116 &  85 &  4 & -50\\\\\n",
       "\t -4 &  12 & 150 & 158 &  6 &  24\\\\\n",
       "\\end{tabular}\n"
      ],
      "text/markdown": [
       "\n",
       "A matrix: 6 × 6 of type dbl\n",
       "\n",
       "| dep_delay | arr_delay | air_time | row_sums | dep_delay_add | arr_delay_mult |\n",
       "|---|---|---|---|---|---|\n",
       "|  2 |  11 | 227 | 240 | 12 |  22 |\n",
       "|  4 |  20 | 227 | 251 | 14 |  40 |\n",
       "|  2 |  33 | 160 | 195 | 12 |  66 |\n",
       "| -1 | -18 | 183 | 164 |  9 | -36 |\n",
       "| -6 | -25 | 116 |  85 |  4 | -50 |\n",
       "| -4 |  12 | 150 | 158 |  6 |  24 |\n",
       "\n"
      ],
      "text/plain": [
       "     dep_delay arr_delay air_time row_sums dep_delay_add arr_delay_mult\n",
       "[1,]  2         11       227      240      12             22           \n",
       "[2,]  4         20       227      251      14             40           \n",
       "[3,]  2         33       160      195      12             66           \n",
       "[4,] -1        -18       183      164       9            -36           \n",
       "[5,] -6        -25       116       85       4            -50           \n",
       "[6,] -4         12       150      158       6             24           "
      ]
     },
     "metadata": {},
     "output_type": "display_data"
    }
   ],
   "source": [
    "############################################################################################\n",
    "\n",
    "# Adding 10 to each element in the dep_delay column\n",
    "dep_delay_add <- mat_flights[,1] + 10\n",
    "\n",
    "# Multiplying each element in the arr_delay column by 2\n",
    "arr_delay_mult <- mat_flights[,2] * 2\n",
    "\n",
    "# Adding these new columns to the original matrix\n",
    "mat_flights <- cbind(mat_flights, dep_delay_add, arr_delay_mult)\n",
    "\n",
    "# Displaying the first few rows of the updated matrix\n",
    "head(mat_flights)\n",
    "\n",
    "############################################################################################"
   ]
  },
  {
   "cell_type": "markdown",
   "id": "395dc9e8-3a7f-42ae-9186-a65b9c260350",
   "metadata": {},
   "source": [
    "This command performs arithmetic operations on the matrix `mat_flights`. It adds 10 to each element in the `dep_delay` column and multiplies each element in the `arr_delay` column by 2. These new columns are then added to the original matrix. "
   ]
  },
  {
   "cell_type": "code",
   "execution_count": null,
   "id": "c5dd3599-b559-43c7-bd95-06a3cc73fdd0",
   "metadata": {},
   "outputs": [],
   "source": []
  }
 ],
 "metadata": {
  "kernelspec": {
   "display_name": "R",
   "language": "R",
   "name": "ir"
  },
  "language_info": {
   "codemirror_mode": "r",
   "file_extension": ".r",
   "mimetype": "text/x-r-source",
   "name": "R",
   "pygments_lexer": "r",
   "version": "4.3.3"
  }
 },
 "nbformat": 4,
 "nbformat_minor": 5
}
